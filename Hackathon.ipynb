{
 "cells": [
  {
   "cell_type": "code",
   "execution_count": 6,
   "metadata": {},
   "outputs": [
    {
     "name": "stdout",
     "output_type": "stream",
     "text": [
      "D:\\Materials\\Infy_Codeathon\n"
     ]
    }
   ],
   "source": [
    "import os\n",
    "os.chdir('D:\\Materials\\Infy_Codeathon')\n",
    "print(os.getcwd())"
   ]
  },
  {
   "cell_type": "code",
   "execution_count": 8,
   "metadata": {},
   "outputs": [
    {
     "name": "stdout",
     "output_type": "stream",
     "text": [
      "The audio file contains: who is just like for the opening to be decided on something more menacing and Gang like and this is almost like a Rumble song and the lions club mix make a message on head of Americans back make a maximum if you let us take it practical class 12 be possible\n"
     ]
    }
   ],
   "source": [
    "import speech_recognition as sr\n",
    " \n",
    "AUDIO_FILE = (\"example.wav\")\n",
    " \n",
    "# use the audio file as the audio source\n",
    " \n",
    "r = sr.Recognizer()\n",
    " \n",
    "with sr.AudioFile(AUDIO_FILE) as source:\n",
    "    #reads the audio file. Here we use record instead of\n",
    "    #listen\n",
    "    audio = r.record(source)  \n",
    " \n",
    "try:\n",
    "    print(\"The audio file contains: \" + r.recognize_google(audio))\n",
    " \n",
    "except sr.UnknownValueError:\n",
    "    print(\"Google Speech Recognition could not understand audio\")\n",
    " \n",
    "except sr.RequestError as e:\n",
    "    print(\"Could not request results from Google Speech Recognition service; {0}\".format(e))"
   ]
  },
  {
   "cell_type": "code",
   "execution_count": 29,
   "metadata": {},
   "outputs": [
    {
     "name": "stdout",
     "output_type": "stream",
     "text": [
      "3.8.1\n",
      "Set minimum energy threshold to 140.71063666131855\n",
      "Say something!\n",
      "how are you\n"
     ]
    }
   ],
   "source": [
    "import speech_recognition as sr\n",
    "print (sr.__version__)\n",
    "r = sr.Recognizer()\n",
    "m = sr.Microphone()\n",
    "#set threhold level\n",
    "with m as source: r.adjust_for_ambient_noise(source)\n",
    "print(\"Set minimum energy threshold to {}\".format(r.energy_threshold))\n",
    "# obtain audio from the microphone\n",
    "\n",
    "with sr.Microphone() as source:\n",
    "    print(\"Say something!\")\n",
    "    r.adjust_for_ambient_noise(source)\n",
    "    audio = r.listen(source)\n",
    "    \n",
    "Query = r.recognize_google(audio)\n",
    "print(Query)"
   ]
  },
  {
   "cell_type": "code",
   "execution_count": 22,
   "metadata": {},
   "outputs": [
    {
     "name": "stdout",
     "output_type": "stream",
     "text": [
      "what's the threshold value\n"
     ]
    }
   ],
   "source": [
    "print (Query)"
   ]
  },
  {
   "cell_type": "code",
   "execution_count": 25,
   "metadata": {},
   "outputs": [
    {
     "name": "stdout",
     "output_type": "stream",
     "text": [
      "<class 'speech_recognition.AudioData'>\n",
      "cheat wife for a the opening to be decided on something more than anything in getting like and this is almost like a Rumble song and the lions club mix make a message I'm ready for the weekend back make a maximum if you let us take a Tractor dealer Salem Selvi mess Salem\n"
     ]
    }
   ],
   "source": [
    "harvard = sr.AudioFile('example.wav')\n",
    "with harvard as source:\n",
    "    r.adjust_for_ambient_noise(source)\n",
    "    audio = r.record(source)\n",
    "    \n",
    "print(type(audio))\n",
    "Query = r.recognize_google(audio)\n",
    "print(Query)"
   ]
  },
  {
   "cell_type": "code",
   "execution_count": 46,
   "metadata": {},
   "outputs": [
    {
     "name": "stdout",
     "output_type": "stream",
     "text": [
      "Say something!\n",
      "You said stop\n"
     ]
    }
   ],
   "source": [
    "import webbrowser\n",
    "r = sr.Recognizer()\n",
    "m = sr.Microphone()\n",
    "\n",
    "with m as source:                \n",
    "        print(\"Say something!\")\n",
    "        audio = r.listen(source)\n",
    "        words = r.recognize_google(audio)\n",
    "        print(\"You said \" + words) \n",
    "        if words ==\"Google\":\n",
    "            webbrowser.open('https://www.google.co.uk')\n",
    "        elif words == \"Stop\":\n",
    "            exit()\n",
    "           "
   ]
  },
  {
   "cell_type": "code",
   "execution_count": null,
   "metadata": {},
   "outputs": [],
   "source": []
  }
 ],
 "metadata": {
  "kernelspec": {
   "display_name": "Python 3",
   "language": "python",
   "name": "python3"
  },
  "language_info": {
   "codemirror_mode": {
    "name": "ipython",
    "version": 3
   },
   "file_extension": ".py",
   "mimetype": "text/x-python",
   "name": "python",
   "nbconvert_exporter": "python",
   "pygments_lexer": "ipython3",
   "version": "3.6.4"
  }
 },
 "nbformat": 4,
 "nbformat_minor": 2
}
